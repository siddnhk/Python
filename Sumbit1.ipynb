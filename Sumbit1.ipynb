{
  "nbformat": 4,
  "nbformat_minor": 0,
  "metadata": {
    "colab": {
      "name": "Sumbit1.ipynb",
      "provenance": [],
      "collapsed_sections": [],
      "toc_visible": true,
      "mount_file_id": "1Dff2d9IJNbGo7z54wi7964xV6E-5ok7Y",
      "authorship_tag": "ABX9TyMGyj0eUFNliLH+Ogar8Bkz",
      "include_colab_link": true
    },
    "kernelspec": {
      "name": "python3",
      "display_name": "Python 3"
    },
    "accelerator": "GPU"
  },
  "cells": [
    {
      "cell_type": "markdown",
      "metadata": {
        "id": "view-in-github",
        "colab_type": "text"
      },
      "source": [
        "<a href=\"https://colab.research.google.com/github/siddnhk/Python/blob/master/Sumbit1.ipynb\" target=\"_parent\"><img src=\"https://colab.research.google.com/assets/colab-badge.svg\" alt=\"Open In Colab\"/></a>"
      ]
    },
    {
      "cell_type": "code",
      "metadata": {
        "id": "K58mOus4MTx8",
        "colab_type": "code",
        "outputId": "2d459515-f9f3-443e-dc02-134878e82fce",
        "colab": {
          "base_uri": "https://localhost:8080/",
          "height": 122
        }
      },
      "source": [
        "from google.colab import drive\n",
        "drive.mount('/content/gdrive')\n",
        " "
      ],
      "execution_count": 1,
      "outputs": [
        {
          "output_type": "stream",
          "text": [
            "Go to this URL in a browser: https://accounts.google.com/o/oauth2/auth?client_id=947318989803-6bn6qk8qdgf4n4g3pfee6491hc0brc4i.apps.googleusercontent.com&redirect_uri=urn%3aietf%3awg%3aoauth%3a2.0%3aoob&response_type=code&scope=email%20https%3a%2f%2fwww.googleapis.com%2fauth%2fdocs.test%20https%3a%2f%2fwww.googleapis.com%2fauth%2fdrive%20https%3a%2f%2fwww.googleapis.com%2fauth%2fdrive.photos.readonly%20https%3a%2f%2fwww.googleapis.com%2fauth%2fpeopleapi.readonly\n",
            "\n",
            "Enter your authorization code:\n",
            "··········\n",
            "Mounted at /content/gdrive\n"
          ],
          "name": "stdout"
        }
      ]
    },
    {
      "cell_type": "code",
      "metadata": {
        "id": "Uj30C5Wer1fb",
        "colab_type": "code",
        "cellView": "code",
        "outputId": "4452a3d3-d79f-4d20-db97-7bce8315bc1a",
        "colab": {
          "base_uri": "https://localhost:8080/",
          "height": 63
        }
      },
      "source": [
        "#@title Default title text\n",
        "import numpy as np\n",
        "import pandas as pd\n",
        "import matplotlib.pyplot as plt\n",
        "from numpy import nan\n",
        "\n",
        "from tensorflow.keras import Sequential\n",
        "from tensorflow.keras.layers import LSTM, Dense\n",
        "\n",
        "\n",
        "from sklearn.metrics import mean_squared_error\n",
        "from sklearn.preprocessing import  MinMaxScaler"
      ],
      "execution_count": 4,
      "outputs": [
        {
          "output_type": "display_data",
          "data": {
            "text/html": [
              "<p style=\"color: red;\">\n",
              "The default version of TensorFlow in Colab will soon switch to TensorFlow 2.x.<br>\n",
              "We recommend you <a href=\"https://www.tensorflow.org/guide/migrate\" target=\"_blank\">upgrade</a> now \n",
              "or ensure your notebook will continue to use TensorFlow 1.x via the <code>%tensorflow_version 1.x</code> magic:\n",
              "<a href=\"https://colab.research.google.com/notebooks/tensorflow_version.ipynb\" target=\"_blank\">more info</a>.</p>\n"
            ],
            "text/plain": [
              "<IPython.core.display.HTML object>"
            ]
          },
          "metadata": {
            "tags": []
          }
        }
      ]
    },
    {
      "cell_type": "code",
      "metadata": {
        "id": "ECMAas8Au53-",
        "colab_type": "code",
        "outputId": "51ddce1a-b799-4063-a809-e0b2c34db59f",
        "colab": {
          "base_uri": "https://localhost:8080/",
          "height": 340
        }
      },
      "source": [
        "data = pd.read_csv('/content/gdrive/My Drive/ELEC/NSWDemand.csv', parse_dates = True, index_col = 'SETTLEMENTDATE', low_memory= False)\n",
        "data.head()\n"
      ],
      "execution_count": 5,
      "outputs": [
        {
          "output_type": "execute_result",
          "data": {
            "text/html": [
              "<div>\n",
              "<style scoped>\n",
              "    .dataframe tbody tr th:only-of-type {\n",
              "        vertical-align: middle;\n",
              "    }\n",
              "\n",
              "    .dataframe tbody tr th {\n",
              "        vertical-align: top;\n",
              "    }\n",
              "\n",
              "    .dataframe thead th {\n",
              "        text-align: right;\n",
              "    }\n",
              "</style>\n",
              "<table border=\"1\" class=\"dataframe\">\n",
              "  <thead>\n",
              "    <tr style=\"text-align: right;\">\n",
              "      <th></th>\n",
              "      <th>REGIONID</th>\n",
              "      <th>DISPATCHINTERVAL</th>\n",
              "      <th>TOTALDEMAND</th>\n",
              "      <th>DEMANDFORECAST</th>\n",
              "      <th>LOWER5MINLOCALDISPATCH</th>\n",
              "      <th>LOWER60SECLOCALDISPATCH</th>\n",
              "      <th>LOWER6SECLOCALDISPATCH</th>\n",
              "      <th>RAISE5MINLOCALDISPATCH</th>\n",
              "      <th>RAISE60SECLOCALDISPATCH</th>\n",
              "      <th>RAISE6SECLOCALDISPATCH</th>\n",
              "    </tr>\n",
              "    <tr>\n",
              "      <th>SETTLEMENTDATE</th>\n",
              "      <th></th>\n",
              "      <th></th>\n",
              "      <th></th>\n",
              "      <th></th>\n",
              "      <th></th>\n",
              "      <th></th>\n",
              "      <th></th>\n",
              "      <th></th>\n",
              "      <th></th>\n",
              "      <th></th>\n",
              "    </tr>\n",
              "  </thead>\n",
              "  <tbody>\n",
              "    <tr>\n",
              "      <th>2009-07-01 00:05:00</th>\n",
              "      <td>NSW1</td>\n",
              "      <td>20090630241</td>\n",
              "      <td>8770.64</td>\n",
              "      <td>-47.13867</td>\n",
              "      <td>22.23</td>\n",
              "      <td>16.0</td>\n",
              "      <td>16.0</td>\n",
              "      <td>248.00</td>\n",
              "      <td>163.05</td>\n",
              "      <td>145.01</td>\n",
              "    </tr>\n",
              "    <tr>\n",
              "      <th>2009-07-01 00:10:00</th>\n",
              "      <td>NSW1</td>\n",
              "      <td>20090630242</td>\n",
              "      <td>8808.24</td>\n",
              "      <td>-31.76758</td>\n",
              "      <td>32.46</td>\n",
              "      <td>16.0</td>\n",
              "      <td>16.0</td>\n",
              "      <td>248.00</td>\n",
              "      <td>167.00</td>\n",
              "      <td>137.00</td>\n",
              "    </tr>\n",
              "    <tr>\n",
              "      <th>2009-07-01 00:15:00</th>\n",
              "      <td>NSW1</td>\n",
              "      <td>20090630243</td>\n",
              "      <td>8823.20</td>\n",
              "      <td>-8.00293</td>\n",
              "      <td>41.77</td>\n",
              "      <td>16.0</td>\n",
              "      <td>16.0</td>\n",
              "      <td>268.00</td>\n",
              "      <td>163.87</td>\n",
              "      <td>137.00</td>\n",
              "    </tr>\n",
              "    <tr>\n",
              "      <th>2009-07-01 00:20:00</th>\n",
              "      <td>NSW1</td>\n",
              "      <td>20090630244</td>\n",
              "      <td>8776.82</td>\n",
              "      <td>-30.37109</td>\n",
              "      <td>38.00</td>\n",
              "      <td>16.0</td>\n",
              "      <td>16.0</td>\n",
              "      <td>258.00</td>\n",
              "      <td>167.00</td>\n",
              "      <td>150.57</td>\n",
              "    </tr>\n",
              "    <tr>\n",
              "      <th>2009-07-01 00:25:00</th>\n",
              "      <td>NSW1</td>\n",
              "      <td>20090630245</td>\n",
              "      <td>8725.02</td>\n",
              "      <td>-45.35449</td>\n",
              "      <td>41.44</td>\n",
              "      <td>16.0</td>\n",
              "      <td>16.0</td>\n",
              "      <td>259.76</td>\n",
              "      <td>166.98</td>\n",
              "      <td>148.91</td>\n",
              "    </tr>\n",
              "  </tbody>\n",
              "</table>\n",
              "</div>"
            ],
            "text/plain": [
              "                    REGIONID  ...  RAISE6SECLOCALDISPATCH\n",
              "SETTLEMENTDATE                ...                        \n",
              "2009-07-01 00:05:00     NSW1  ...                  145.01\n",
              "2009-07-01 00:10:00     NSW1  ...                  137.00\n",
              "2009-07-01 00:15:00     NSW1  ...                  137.00\n",
              "2009-07-01 00:20:00     NSW1  ...                  150.57\n",
              "2009-07-01 00:25:00     NSW1  ...                  148.91\n",
              "\n",
              "[5 rows x 10 columns]"
            ]
          },
          "metadata": {
            "tags": []
          },
          "execution_count": 5
        }
      ]
    },
    {
      "cell_type": "code",
      "metadata": {
        "id": "vNRiCX8_iBLy",
        "colab_type": "code",
        "colab": {
          "base_uri": "https://localhost:8080/",
          "height": 136
        },
        "outputId": "536ed32a-0a58-48a7-c97b-e835e1441ec1"
      },
      "source": [
        "\n",
        "data_test = data.loc['2019-01-01 00:00:00':'2019-12-31 23:55:00', 'TOTALDEMAND']\n",
        "data_test.head()"
      ],
      "execution_count": 6,
      "outputs": [
        {
          "output_type": "execute_result",
          "data": {
            "text/plain": [
              "SETTLEMENTDATE\n",
              "2019-01-01 00:00:00    7598.63\n",
              "2019-01-01 00:05:00    7548.30\n",
              "2019-01-01 00:10:00    7558.41\n",
              "2019-01-01 00:15:00    7500.33\n",
              "2019-01-01 00:20:00    7417.36\n",
              "Name: TOTALDEMAND, dtype: float64"
            ]
          },
          "metadata": {
            "tags": []
          },
          "execution_count": 6
        }
      ]
    },
    {
      "cell_type": "code",
      "metadata": {
        "id": "cJtI96qPiD4X",
        "colab_type": "code",
        "colab": {}
      },
      "source": [
        "X_test, Y_test =[], []\n",
        "\n",
        "for i in range(6, len(data_test)-6):\n",
        "    X_test.append(data_test[i-6:i])\n",
        "    Y_test.append(data_test[i:i+6])"
      ],
      "execution_count": 0,
      "outputs": []
    },
    {
      "cell_type": "code",
      "metadata": {
        "id": "WNFU7uw9impF",
        "colab_type": "code",
        "colab": {}
      },
      "source": [
        "X_test, Y_test = np.array(X_test),np.array(Y_test)"
      ],
      "execution_count": 0,
      "outputs": []
    },
    {
      "cell_type": "code",
      "metadata": {
        "id": "LTM7Cptoives",
        "colab_type": "code",
        "colab": {}
      },
      "source": [
        "x_scaler = MinMaxScaler()\n",
        "X_test = x_scaler.fit_transform(X_test)\n",
        "\n",
        "y_scaler = MinMaxScaler()\n",
        "Y_test = y_scaler.fit_transform(Y_test)"
      ],
      "execution_count": 0,
      "outputs": []
    },
    {
      "cell_type": "code",
      "metadata": {
        "id": "9lBLaykBi9R5",
        "colab_type": "code",
        "colab": {}
      },
      "source": [
        "X_test = X_test.reshape(121911 ,6 ,1)"
      ],
      "execution_count": 0,
      "outputs": []
    },
    {
      "cell_type": "code",
      "metadata": {
        "id": "TnkSNIdVjxFc",
        "colab_type": "code",
        "colab": {}
      },
      "source": [
        "import tensorflow as tf\n",
        "Momdel_Read = tf.keras.models.load_model('/content/gdrive/My Drive/ELEC/Elec_MOdel.h5')"
      ],
      "execution_count": 0,
      "outputs": []
    },
    {
      "cell_type": "code",
      "metadata": {
        "id": "eHPfYl0nkOQJ",
        "colab_type": "code",
        "colab": {}
      },
      "source": [
        "Y_Pred = Momdel_Read.predict(X_test)"
      ],
      "execution_count": 0,
      "outputs": []
    },
    {
      "cell_type": "code",
      "metadata": {
        "id": "jrF_5_Z1k99M",
        "colab_type": "code",
        "colab": {}
      },
      "source": [
        "Y_Pred = y_scaler.inverse_transform(Y_Pred)"
      ],
      "execution_count": 0,
      "outputs": []
    },
    {
      "cell_type": "code",
      "metadata": {
        "id": "Fu5BjpsplBD-",
        "colab_type": "code",
        "colab": {
          "base_uri": "https://localhost:8080/",
          "height": 153
        },
        "outputId": "3971043e-d26b-4f59-d28b-cb3273e1ca5e"
      },
      "source": [
        "Y_Pred"
      ],
      "execution_count": 14,
      "outputs": [
        {
          "output_type": "execute_result",
          "data": {
            "text/plain": [
              "array([[7315.142 , 7291.5156, 7261.0737, 7223.6846, 7190.684 , 7153.9194],\n",
              "       [7350.752 , 7325.374 , 7288.109 , 7252.3716, 7226.9434, 7198.0493],\n",
              "       [7260.787 , 7232.1865, 7197.6855, 7160.6675, 7127.9595, 7087.146 ],\n",
              "       ...,\n",
              "       [7460.7715, 7434.617 , 7407.145 , 7379.0376, 7353.1016, 7321.4946],\n",
              "       [7398.311 , 7375.5186, 7348.456 , 7317.02  , 7288.322 , 7255.9863],\n",
              "       [7415.5376, 7392.38  , 7358.6123, 7326.614 , 7304.029 , 7279.344 ]],\n",
              "      dtype=float32)"
            ]
          },
          "metadata": {
            "tags": []
          },
          "execution_count": 14
        }
      ]
    }
  ]
}